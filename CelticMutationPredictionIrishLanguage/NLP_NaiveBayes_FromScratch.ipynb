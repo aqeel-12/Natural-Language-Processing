{
  "nbformat": 4,
  "nbformat_minor": 0,
  "metadata": {
    "colab": {
      "provenance": [],
      "collapsed_sections": []
    },
    "kernelspec": {
      "name": "python3",
      "display_name": "Python 3"
    },
    "language_info": {
      "name": "python"
    }
  },
  "cells": [
    {
      "cell_type": "markdown",
      "source": [
        "Import File"
      ],
      "metadata": {
        "id": "o5GNcjZKmEZp"
      }
    },
    {
      "cell_type": "code",
      "execution_count": 1,
      "metadata": {
        "id": "4TRWU1f0oVx4",
        "colab": {
          "base_uri": "https://localhost:8080/",
          "height": 424
        },
        "outputId": "beffcc52-50d2-4e8c-e480-8c1977a45aa9"
      },
      "outputs": [
        {
          "output_type": "execute_result",
          "data": {
            "text/plain": [
              "              0  1\n",
              "0         ansin  N\n",
              "1             )  N\n",
              "2            tá  N\n",
              "3          níos  N\n",
              "4            lú  N\n",
              "...         ... ..\n",
              "5057054      do  N\n",
              "5057055  daoine  S\n",
              "5057056   beaga  N\n",
              "5057057       .  N\n",
              "5057058     <S>  N\n",
              "\n",
              "[5057059 rows x 2 columns]"
            ],
            "text/html": [
              "\n",
              "  <div id=\"df-b37016b6-4bf3-42d6-98ff-55d71ded6df5\">\n",
              "    <div class=\"colab-df-container\">\n",
              "      <div>\n",
              "<style scoped>\n",
              "    .dataframe tbody tr th:only-of-type {\n",
              "        vertical-align: middle;\n",
              "    }\n",
              "\n",
              "    .dataframe tbody tr th {\n",
              "        vertical-align: top;\n",
              "    }\n",
              "\n",
              "    .dataframe thead th {\n",
              "        text-align: right;\n",
              "    }\n",
              "</style>\n",
              "<table border=\"1\" class=\"dataframe\">\n",
              "  <thead>\n",
              "    <tr style=\"text-align: right;\">\n",
              "      <th></th>\n",
              "      <th>0</th>\n",
              "      <th>1</th>\n",
              "    </tr>\n",
              "  </thead>\n",
              "  <tbody>\n",
              "    <tr>\n",
              "      <th>0</th>\n",
              "      <td>ansin</td>\n",
              "      <td>N</td>\n",
              "    </tr>\n",
              "    <tr>\n",
              "      <th>1</th>\n",
              "      <td>)</td>\n",
              "      <td>N</td>\n",
              "    </tr>\n",
              "    <tr>\n",
              "      <th>2</th>\n",
              "      <td>tá</td>\n",
              "      <td>N</td>\n",
              "    </tr>\n",
              "    <tr>\n",
              "      <th>3</th>\n",
              "      <td>níos</td>\n",
              "      <td>N</td>\n",
              "    </tr>\n",
              "    <tr>\n",
              "      <th>4</th>\n",
              "      <td>lú</td>\n",
              "      <td>N</td>\n",
              "    </tr>\n",
              "    <tr>\n",
              "      <th>...</th>\n",
              "      <td>...</td>\n",
              "      <td>...</td>\n",
              "    </tr>\n",
              "    <tr>\n",
              "      <th>5057054</th>\n",
              "      <td>do</td>\n",
              "      <td>N</td>\n",
              "    </tr>\n",
              "    <tr>\n",
              "      <th>5057055</th>\n",
              "      <td>daoine</td>\n",
              "      <td>S</td>\n",
              "    </tr>\n",
              "    <tr>\n",
              "      <th>5057056</th>\n",
              "      <td>beaga</td>\n",
              "      <td>N</td>\n",
              "    </tr>\n",
              "    <tr>\n",
              "      <th>5057057</th>\n",
              "      <td>.</td>\n",
              "      <td>N</td>\n",
              "    </tr>\n",
              "    <tr>\n",
              "      <th>5057058</th>\n",
              "      <td>&lt;S&gt;</td>\n",
              "      <td>N</td>\n",
              "    </tr>\n",
              "  </tbody>\n",
              "</table>\n",
              "<p>5057059 rows × 2 columns</p>\n",
              "</div>\n",
              "      <button class=\"colab-df-convert\" onclick=\"convertToInteractive('df-b37016b6-4bf3-42d6-98ff-55d71ded6df5')\"\n",
              "              title=\"Convert this dataframe to an interactive table.\"\n",
              "              style=\"display:none;\">\n",
              "        \n",
              "  <svg xmlns=\"http://www.w3.org/2000/svg\" height=\"24px\"viewBox=\"0 0 24 24\"\n",
              "       width=\"24px\">\n",
              "    <path d=\"M0 0h24v24H0V0z\" fill=\"none\"/>\n",
              "    <path d=\"M18.56 5.44l.94 2.06.94-2.06 2.06-.94-2.06-.94-.94-2.06-.94 2.06-2.06.94zm-11 1L8.5 8.5l.94-2.06 2.06-.94-2.06-.94L8.5 2.5l-.94 2.06-2.06.94zm10 10l.94 2.06.94-2.06 2.06-.94-2.06-.94-.94-2.06-.94 2.06-2.06.94z\"/><path d=\"M17.41 7.96l-1.37-1.37c-.4-.4-.92-.59-1.43-.59-.52 0-1.04.2-1.43.59L10.3 9.45l-7.72 7.72c-.78.78-.78 2.05 0 2.83L4 21.41c.39.39.9.59 1.41.59.51 0 1.02-.2 1.41-.59l7.78-7.78 2.81-2.81c.8-.78.8-2.07 0-2.86zM5.41 20L4 18.59l7.72-7.72 1.47 1.35L5.41 20z\"/>\n",
              "  </svg>\n",
              "      </button>\n",
              "      \n",
              "  <style>\n",
              "    .colab-df-container {\n",
              "      display:flex;\n",
              "      flex-wrap:wrap;\n",
              "      gap: 12px;\n",
              "    }\n",
              "\n",
              "    .colab-df-convert {\n",
              "      background-color: #E8F0FE;\n",
              "      border: none;\n",
              "      border-radius: 50%;\n",
              "      cursor: pointer;\n",
              "      display: none;\n",
              "      fill: #1967D2;\n",
              "      height: 32px;\n",
              "      padding: 0 0 0 0;\n",
              "      width: 32px;\n",
              "    }\n",
              "\n",
              "    .colab-df-convert:hover {\n",
              "      background-color: #E2EBFA;\n",
              "      box-shadow: 0px 1px 2px rgba(60, 64, 67, 0.3), 0px 1px 3px 1px rgba(60, 64, 67, 0.15);\n",
              "      fill: #174EA6;\n",
              "    }\n",
              "\n",
              "    [theme=dark] .colab-df-convert {\n",
              "      background-color: #3B4455;\n",
              "      fill: #D2E3FC;\n",
              "    }\n",
              "\n",
              "    [theme=dark] .colab-df-convert:hover {\n",
              "      background-color: #434B5C;\n",
              "      box-shadow: 0px 1px 3px 1px rgba(0, 0, 0, 0.15);\n",
              "      filter: drop-shadow(0px 1px 2px rgba(0, 0, 0, 0.3));\n",
              "      fill: #FFFFFF;\n",
              "    }\n",
              "  </style>\n",
              "\n",
              "      <script>\n",
              "        const buttonEl =\n",
              "          document.querySelector('#df-b37016b6-4bf3-42d6-98ff-55d71ded6df5 button.colab-df-convert');\n",
              "        buttonEl.style.display =\n",
              "          google.colab.kernel.accessAllowed ? 'block' : 'none';\n",
              "\n",
              "        async function convertToInteractive(key) {\n",
              "          const element = document.querySelector('#df-b37016b6-4bf3-42d6-98ff-55d71ded6df5');\n",
              "          const dataTable =\n",
              "            await google.colab.kernel.invokeFunction('convertToInteractive',\n",
              "                                                     [key], {});\n",
              "          if (!dataTable) return;\n",
              "\n",
              "          const docLinkHtml = 'Like what you see? Visit the ' +\n",
              "            '<a target=\"_blank\" href=https://colab.research.google.com/notebooks/data_table.ipynb>data table notebook</a>'\n",
              "            + ' to learn more about interactive tables.';\n",
              "          element.innerHTML = '';\n",
              "          dataTable['output_type'] = 'display_data';\n",
              "          await google.colab.output.renderOutput(dataTable, element);\n",
              "          const docLink = document.createElement('div');\n",
              "          docLink.innerHTML = docLinkHtml;\n",
              "          element.appendChild(docLink);\n",
              "        }\n",
              "      </script>\n",
              "    </div>\n",
              "  </div>\n",
              "  "
            ]
          },
          "metadata": {},
          "execution_count": 1
        }
      ],
      "source": [
        "import pandas as pd\n",
        "data = pd.read_csv('train.tsv',sep = '\\t',header= None)\n",
        "data"
      ]
    },
    {
      "cell_type": "code",
      "source": [
        "data.columns = ['Token','mutation']\n",
        "data['Token']"
      ],
      "metadata": {
        "colab": {
          "base_uri": "https://localhost:8080/"
        },
        "id": "dPNvxaCRDbC_",
        "outputId": "52b9eedb-1fd2-4bb0-921f-8c5530c52dd1"
      },
      "execution_count": 2,
      "outputs": [
        {
          "output_type": "execute_result",
          "data": {
            "text/plain": [
              "0           ansin\n",
              "1               )\n",
              "2              tá\n",
              "3            níos\n",
              "4              lú\n",
              "            ...  \n",
              "5057054        do\n",
              "5057055    daoine\n",
              "5057056     beaga\n",
              "5057057         .\n",
              "5057058       <S>\n",
              "Name: Token, Length: 5057059, dtype: object"
            ]
          },
          "metadata": {},
          "execution_count": 2
        }
      ]
    },
    {
      "cell_type": "markdown",
      "source": [
        "Tokenize pair of words "
      ],
      "metadata": {
        "id": "Ug_YwAbrmNX3"
      }
    },
    {
      "cell_type": "code",
      "source": [
        "list_add=[]\n",
        "size= len(data)\n",
        "for temp in range(size-1):\n",
        "  list_add.append(str(data['Token'][temp])+' '+ str(data['Token'][temp+1]))\n",
        "  temp+=1\n",
        "list_add.insert(0,'ansin') "
      ],
      "metadata": {
        "id": "10IkHUlCEBvH"
      },
      "execution_count": 3,
      "outputs": []
    },
    {
      "cell_type": "code",
      "source": [
        "list_add[1]"
      ],
      "metadata": {
        "colab": {
          "base_uri": "https://localhost:8080/",
          "height": 35
        },
        "id": "AbE20biOOzrc",
        "outputId": "ca2d403d-4d91-4b47-fb71-b52f393d7b0c"
      },
      "execution_count": 4,
      "outputs": [
        {
          "output_type": "execute_result",
          "data": {
            "text/plain": [
              "'ansin )'"
            ],
            "application/vnd.google.colaboratory.intrinsic+json": {
              "type": "string"
            }
          },
          "metadata": {},
          "execution_count": 4
        }
      ]
    },
    {
      "cell_type": "code",
      "source": [
        "tokens = {  'Bi-gram' : list_add,\n",
        "            'Mutations': data['mutation']\n",
        "    \n",
        "}\n",
        "tokens = pd.DataFrame(tokens)\n",
        "tokens"
      ],
      "metadata": {
        "id": "ARDn7edZEKrf",
        "colab": {
          "base_uri": "https://localhost:8080/",
          "height": 424
        },
        "outputId": "f37b7ad5-83c1-4d5f-cdb9-e30fe50a1bc5"
      },
      "execution_count": 5,
      "outputs": [
        {
          "output_type": "execute_result",
          "data": {
            "text/plain": [
              "              Bi-gram Mutations\n",
              "0               ansin         N\n",
              "1             ansin )         N\n",
              "2                ) tá         N\n",
              "3             tá níos         N\n",
              "4             níos lú         N\n",
              "...               ...       ...\n",
              "5057054        mór do         N\n",
              "5057055     do daoine         S\n",
              "5057056  daoine beaga         N\n",
              "5057057       beaga .         N\n",
              "5057058         . <S>         N\n",
              "\n",
              "[5057059 rows x 2 columns]"
            ],
            "text/html": [
              "\n",
              "  <div id=\"df-5407e58c-7b0e-40cc-80a4-dd1351b25885\">\n",
              "    <div class=\"colab-df-container\">\n",
              "      <div>\n",
              "<style scoped>\n",
              "    .dataframe tbody tr th:only-of-type {\n",
              "        vertical-align: middle;\n",
              "    }\n",
              "\n",
              "    .dataframe tbody tr th {\n",
              "        vertical-align: top;\n",
              "    }\n",
              "\n",
              "    .dataframe thead th {\n",
              "        text-align: right;\n",
              "    }\n",
              "</style>\n",
              "<table border=\"1\" class=\"dataframe\">\n",
              "  <thead>\n",
              "    <tr style=\"text-align: right;\">\n",
              "      <th></th>\n",
              "      <th>Bi-gram</th>\n",
              "      <th>Mutations</th>\n",
              "    </tr>\n",
              "  </thead>\n",
              "  <tbody>\n",
              "    <tr>\n",
              "      <th>0</th>\n",
              "      <td>ansin</td>\n",
              "      <td>N</td>\n",
              "    </tr>\n",
              "    <tr>\n",
              "      <th>1</th>\n",
              "      <td>ansin )</td>\n",
              "      <td>N</td>\n",
              "    </tr>\n",
              "    <tr>\n",
              "      <th>2</th>\n",
              "      <td>) tá</td>\n",
              "      <td>N</td>\n",
              "    </tr>\n",
              "    <tr>\n",
              "      <th>3</th>\n",
              "      <td>tá níos</td>\n",
              "      <td>N</td>\n",
              "    </tr>\n",
              "    <tr>\n",
              "      <th>4</th>\n",
              "      <td>níos lú</td>\n",
              "      <td>N</td>\n",
              "    </tr>\n",
              "    <tr>\n",
              "      <th>...</th>\n",
              "      <td>...</td>\n",
              "      <td>...</td>\n",
              "    </tr>\n",
              "    <tr>\n",
              "      <th>5057054</th>\n",
              "      <td>mór do</td>\n",
              "      <td>N</td>\n",
              "    </tr>\n",
              "    <tr>\n",
              "      <th>5057055</th>\n",
              "      <td>do daoine</td>\n",
              "      <td>S</td>\n",
              "    </tr>\n",
              "    <tr>\n",
              "      <th>5057056</th>\n",
              "      <td>daoine beaga</td>\n",
              "      <td>N</td>\n",
              "    </tr>\n",
              "    <tr>\n",
              "      <th>5057057</th>\n",
              "      <td>beaga .</td>\n",
              "      <td>N</td>\n",
              "    </tr>\n",
              "    <tr>\n",
              "      <th>5057058</th>\n",
              "      <td>. &lt;S&gt;</td>\n",
              "      <td>N</td>\n",
              "    </tr>\n",
              "  </tbody>\n",
              "</table>\n",
              "<p>5057059 rows × 2 columns</p>\n",
              "</div>\n",
              "      <button class=\"colab-df-convert\" onclick=\"convertToInteractive('df-5407e58c-7b0e-40cc-80a4-dd1351b25885')\"\n",
              "              title=\"Convert this dataframe to an interactive table.\"\n",
              "              style=\"display:none;\">\n",
              "        \n",
              "  <svg xmlns=\"http://www.w3.org/2000/svg\" height=\"24px\"viewBox=\"0 0 24 24\"\n",
              "       width=\"24px\">\n",
              "    <path d=\"M0 0h24v24H0V0z\" fill=\"none\"/>\n",
              "    <path d=\"M18.56 5.44l.94 2.06.94-2.06 2.06-.94-2.06-.94-.94-2.06-.94 2.06-2.06.94zm-11 1L8.5 8.5l.94-2.06 2.06-.94-2.06-.94L8.5 2.5l-.94 2.06-2.06.94zm10 10l.94 2.06.94-2.06 2.06-.94-2.06-.94-.94-2.06-.94 2.06-2.06.94z\"/><path d=\"M17.41 7.96l-1.37-1.37c-.4-.4-.92-.59-1.43-.59-.52 0-1.04.2-1.43.59L10.3 9.45l-7.72 7.72c-.78.78-.78 2.05 0 2.83L4 21.41c.39.39.9.59 1.41.59.51 0 1.02-.2 1.41-.59l7.78-7.78 2.81-2.81c.8-.78.8-2.07 0-2.86zM5.41 20L4 18.59l7.72-7.72 1.47 1.35L5.41 20z\"/>\n",
              "  </svg>\n",
              "      </button>\n",
              "      \n",
              "  <style>\n",
              "    .colab-df-container {\n",
              "      display:flex;\n",
              "      flex-wrap:wrap;\n",
              "      gap: 12px;\n",
              "    }\n",
              "\n",
              "    .colab-df-convert {\n",
              "      background-color: #E8F0FE;\n",
              "      border: none;\n",
              "      border-radius: 50%;\n",
              "      cursor: pointer;\n",
              "      display: none;\n",
              "      fill: #1967D2;\n",
              "      height: 32px;\n",
              "      padding: 0 0 0 0;\n",
              "      width: 32px;\n",
              "    }\n",
              "\n",
              "    .colab-df-convert:hover {\n",
              "      background-color: #E2EBFA;\n",
              "      box-shadow: 0px 1px 2px rgba(60, 64, 67, 0.3), 0px 1px 3px 1px rgba(60, 64, 67, 0.15);\n",
              "      fill: #174EA6;\n",
              "    }\n",
              "\n",
              "    [theme=dark] .colab-df-convert {\n",
              "      background-color: #3B4455;\n",
              "      fill: #D2E3FC;\n",
              "    }\n",
              "\n",
              "    [theme=dark] .colab-df-convert:hover {\n",
              "      background-color: #434B5C;\n",
              "      box-shadow: 0px 1px 3px 1px rgba(0, 0, 0, 0.15);\n",
              "      filter: drop-shadow(0px 1px 2px rgba(0, 0, 0, 0.3));\n",
              "      fill: #FFFFFF;\n",
              "    }\n",
              "  </style>\n",
              "\n",
              "      <script>\n",
              "        const buttonEl =\n",
              "          document.querySelector('#df-5407e58c-7b0e-40cc-80a4-dd1351b25885 button.colab-df-convert');\n",
              "        buttonEl.style.display =\n",
              "          google.colab.kernel.accessAllowed ? 'block' : 'none';\n",
              "\n",
              "        async function convertToInteractive(key) {\n",
              "          const element = document.querySelector('#df-5407e58c-7b0e-40cc-80a4-dd1351b25885');\n",
              "          const dataTable =\n",
              "            await google.colab.kernel.invokeFunction('convertToInteractive',\n",
              "                                                     [key], {});\n",
              "          if (!dataTable) return;\n",
              "\n",
              "          const docLinkHtml = 'Like what you see? Visit the ' +\n",
              "            '<a target=\"_blank\" href=https://colab.research.google.com/notebooks/data_table.ipynb>data table notebook</a>'\n",
              "            + ' to learn more about interactive tables.';\n",
              "          element.innerHTML = '';\n",
              "          dataTable['output_type'] = 'display_data';\n",
              "          await google.colab.output.renderOutput(dataTable, element);\n",
              "          const docLink = document.createElement('div');\n",
              "          docLink.innerHTML = docLinkHtml;\n",
              "          element.appendChild(docLink);\n",
              "        }\n",
              "      </script>\n",
              "    </div>\n",
              "  </div>\n",
              "  "
            ]
          },
          "metadata": {},
          "execution_count": 5
        }
      ]
    },
    {
      "cell_type": "markdown",
      "source": [
        "Cleaning dataset by removing unnecessary text"
      ],
      "metadata": {
        "id": "-QCuCrm1mVH1"
      }
    },
    {
      "cell_type": "code",
      "source": [
        "tokens['Bi-gram'] = tokens['Bi-gram'].str.replace(\"[<URI><USER><EMAIL><NUM>]\",\"\")"
      ],
      "metadata": {
        "colab": {
          "base_uri": "https://localhost:8080/"
        },
        "id": "EibMDHiZEPbg",
        "outputId": "182d0b8b-35e1-490f-dd1b-4bd9368c24dd"
      },
      "execution_count": 6,
      "outputs": [
        {
          "output_type": "stream",
          "name": "stderr",
          "text": [
            "/usr/local/lib/python3.7/dist-packages/ipykernel_launcher.py:1: FutureWarning: The default value of regex will change from True to False in a future version.\n",
            "  \"\"\"Entry point for launching an IPython kernel.\n"
          ]
        }
      ]
    },
    {
      "cell_type": "markdown",
      "source": [
        "#Naive-Bayes\n",
        "\n",
        "---Accuracy is quite low due to a bug (Always predicting one class) \n",
        "\n"
      ],
      "metadata": {
        "id": "p3vIerrmqny7"
      }
    },
    {
      "cell_type": "code",
      "source": [
        "tokens=tokens.iloc[:50000]\n",
        "split_index=int(len(tokens)*0.3)\n",
        "train=tokens.iloc[split_index:]\n",
        "test=tokens.iloc[:split_index]\n",
        "Y_train=train.iloc[:,:-1].values\n",
        "X_test = test.iloc[:,:-1].values\n",
        "Y_test = test.iloc[:,-1].values\n",
        "train\n"
      ],
      "metadata": {
        "colab": {
          "base_uri": "https://localhost:8080/",
          "height": 424
        },
        "id": "HkbUIkxnmnM4",
        "outputId": "a6e773b0-5152-4a03-b199-b99ad2497f7a"
      },
      "execution_count": 11,
      "outputs": [
        {
          "output_type": "execute_result",
          "data": {
            "text/plain": [
              "            Bi-gram Mutations\n",
              "15000    gach duine         N\n",
              "15001    duine idir         N\n",
              "15002   idir páistí         S\n",
              "15003      páistí '         N\n",
              "15004          ' is         N\n",
              "...             ...       ...\n",
              "49995     agitato .         N\n",
              "49996            .          N\n",
              "49997          rinn         N\n",
              "49998       rinn an         N\n",
              "49999  an buachaill         N\n",
              "\n",
              "[35000 rows x 2 columns]"
            ],
            "text/html": [
              "\n",
              "  <div id=\"df-534752ea-3af4-47c9-b4d4-96060b594010\">\n",
              "    <div class=\"colab-df-container\">\n",
              "      <div>\n",
              "<style scoped>\n",
              "    .dataframe tbody tr th:only-of-type {\n",
              "        vertical-align: middle;\n",
              "    }\n",
              "\n",
              "    .dataframe tbody tr th {\n",
              "        vertical-align: top;\n",
              "    }\n",
              "\n",
              "    .dataframe thead th {\n",
              "        text-align: right;\n",
              "    }\n",
              "</style>\n",
              "<table border=\"1\" class=\"dataframe\">\n",
              "  <thead>\n",
              "    <tr style=\"text-align: right;\">\n",
              "      <th></th>\n",
              "      <th>Bi-gram</th>\n",
              "      <th>Mutations</th>\n",
              "    </tr>\n",
              "  </thead>\n",
              "  <tbody>\n",
              "    <tr>\n",
              "      <th>15000</th>\n",
              "      <td>gach duine</td>\n",
              "      <td>N</td>\n",
              "    </tr>\n",
              "    <tr>\n",
              "      <th>15001</th>\n",
              "      <td>duine idir</td>\n",
              "      <td>N</td>\n",
              "    </tr>\n",
              "    <tr>\n",
              "      <th>15002</th>\n",
              "      <td>idir páistí</td>\n",
              "      <td>S</td>\n",
              "    </tr>\n",
              "    <tr>\n",
              "      <th>15003</th>\n",
              "      <td>páistí '</td>\n",
              "      <td>N</td>\n",
              "    </tr>\n",
              "    <tr>\n",
              "      <th>15004</th>\n",
              "      <td>' is</td>\n",
              "      <td>N</td>\n",
              "    </tr>\n",
              "    <tr>\n",
              "      <th>...</th>\n",
              "      <td>...</td>\n",
              "      <td>...</td>\n",
              "    </tr>\n",
              "    <tr>\n",
              "      <th>49995</th>\n",
              "      <td>agitato .</td>\n",
              "      <td>N</td>\n",
              "    </tr>\n",
              "    <tr>\n",
              "      <th>49996</th>\n",
              "      <td>.</td>\n",
              "      <td>N</td>\n",
              "    </tr>\n",
              "    <tr>\n",
              "      <th>49997</th>\n",
              "      <td>rinn</td>\n",
              "      <td>N</td>\n",
              "    </tr>\n",
              "    <tr>\n",
              "      <th>49998</th>\n",
              "      <td>rinn an</td>\n",
              "      <td>N</td>\n",
              "    </tr>\n",
              "    <tr>\n",
              "      <th>49999</th>\n",
              "      <td>an buachaill</td>\n",
              "      <td>N</td>\n",
              "    </tr>\n",
              "  </tbody>\n",
              "</table>\n",
              "<p>35000 rows × 2 columns</p>\n",
              "</div>\n",
              "      <button class=\"colab-df-convert\" onclick=\"convertToInteractive('df-534752ea-3af4-47c9-b4d4-96060b594010')\"\n",
              "              title=\"Convert this dataframe to an interactive table.\"\n",
              "              style=\"display:none;\">\n",
              "        \n",
              "  <svg xmlns=\"http://www.w3.org/2000/svg\" height=\"24px\"viewBox=\"0 0 24 24\"\n",
              "       width=\"24px\">\n",
              "    <path d=\"M0 0h24v24H0V0z\" fill=\"none\"/>\n",
              "    <path d=\"M18.56 5.44l.94 2.06.94-2.06 2.06-.94-2.06-.94-.94-2.06-.94 2.06-2.06.94zm-11 1L8.5 8.5l.94-2.06 2.06-.94-2.06-.94L8.5 2.5l-.94 2.06-2.06.94zm10 10l.94 2.06.94-2.06 2.06-.94-2.06-.94-.94-2.06-.94 2.06-2.06.94z\"/><path d=\"M17.41 7.96l-1.37-1.37c-.4-.4-.92-.59-1.43-.59-.52 0-1.04.2-1.43.59L10.3 9.45l-7.72 7.72c-.78.78-.78 2.05 0 2.83L4 21.41c.39.39.9.59 1.41.59.51 0 1.02-.2 1.41-.59l7.78-7.78 2.81-2.81c.8-.78.8-2.07 0-2.86zM5.41 20L4 18.59l7.72-7.72 1.47 1.35L5.41 20z\"/>\n",
              "  </svg>\n",
              "      </button>\n",
              "      \n",
              "  <style>\n",
              "    .colab-df-container {\n",
              "      display:flex;\n",
              "      flex-wrap:wrap;\n",
              "      gap: 12px;\n",
              "    }\n",
              "\n",
              "    .colab-df-convert {\n",
              "      background-color: #E8F0FE;\n",
              "      border: none;\n",
              "      border-radius: 50%;\n",
              "      cursor: pointer;\n",
              "      display: none;\n",
              "      fill: #1967D2;\n",
              "      height: 32px;\n",
              "      padding: 0 0 0 0;\n",
              "      width: 32px;\n",
              "    }\n",
              "\n",
              "    .colab-df-convert:hover {\n",
              "      background-color: #E2EBFA;\n",
              "      box-shadow: 0px 1px 2px rgba(60, 64, 67, 0.3), 0px 1px 3px 1px rgba(60, 64, 67, 0.15);\n",
              "      fill: #174EA6;\n",
              "    }\n",
              "\n",
              "    [theme=dark] .colab-df-convert {\n",
              "      background-color: #3B4455;\n",
              "      fill: #D2E3FC;\n",
              "    }\n",
              "\n",
              "    [theme=dark] .colab-df-convert:hover {\n",
              "      background-color: #434B5C;\n",
              "      box-shadow: 0px 1px 3px 1px rgba(0, 0, 0, 0.15);\n",
              "      filter: drop-shadow(0px 1px 2px rgba(0, 0, 0, 0.3));\n",
              "      fill: #FFFFFF;\n",
              "    }\n",
              "  </style>\n",
              "\n",
              "      <script>\n",
              "        const buttonEl =\n",
              "          document.querySelector('#df-534752ea-3af4-47c9-b4d4-96060b594010 button.colab-df-convert');\n",
              "        buttonEl.style.display =\n",
              "          google.colab.kernel.accessAllowed ? 'block' : 'none';\n",
              "\n",
              "        async function convertToInteractive(key) {\n",
              "          const element = document.querySelector('#df-534752ea-3af4-47c9-b4d4-96060b594010');\n",
              "          const dataTable =\n",
              "            await google.colab.kernel.invokeFunction('convertToInteractive',\n",
              "                                                     [key], {});\n",
              "          if (!dataTable) return;\n",
              "\n",
              "          const docLinkHtml = 'Like what you see? Visit the ' +\n",
              "            '<a target=\"_blank\" href=https://colab.research.google.com/notebooks/data_table.ipynb>data table notebook</a>'\n",
              "            + ' to learn more about interactive tables.';\n",
              "          element.innerHTML = '';\n",
              "          dataTable['output_type'] = 'display_data';\n",
              "          await google.colab.output.renderOutput(dataTable, element);\n",
              "          const docLink = document.createElement('div');\n",
              "          docLink.innerHTML = docLinkHtml;\n",
              "          element.appendChild(docLink);\n",
              "        }\n",
              "      </script>\n",
              "    </div>\n",
              "  </div>\n",
              "  "
            ]
          },
          "metadata": {},
          "execution_count": 11
        }
      ]
    },
    {
      "cell_type": "markdown",
      "source": [
        "Calculating Prior Probabilities for each class"
      ],
      "metadata": {
        "id": "x1qgFQD052Kj"
      }
    },
    {
      "cell_type": "code",
      "source": [
        "def calculate_prior(df, Y):\n",
        "    classes = sorted(list(df[Y].unique()))\n",
        "    print(classes)\n",
        "    prior = []\n",
        "    for i in classes:\n",
        "        prior.append(len(df[df[Y]==i])/len(df))\n",
        "    return prior"
      ],
      "metadata": {
        "id": "WFwS_japGyOy"
      },
      "execution_count": 12,
      "outputs": []
    },
    {
      "cell_type": "code",
      "source": [
        "bow_H = {}\n",
        "bow_N = {}\n",
        "bow_T={}\n",
        "bow_U={}\n",
        "bow_S={}\n",
        "count_H = 0\n",
        "count_N = 0\n",
        "count_T = 0\n",
        "count_U = 0\n",
        "count_S = 0"
      ],
      "metadata": {
        "id": "KAtuEohGsRTN"
      },
      "execution_count": 13,
      "outputs": []
    },
    {
      "cell_type": "code",
      "source": [
        "#tokens['Bi-gram'][1]\n",
        "import re\n",
        "ss=re.findall(r\"[\\w]+|[^\\s\\w]\", tokens['Bi-gram'][1])"
      ],
      "metadata": {
        "id": "OYWR7PJ8shT-"
      },
      "execution_count": 14,
      "outputs": []
    },
    {
      "cell_type": "code",
      "source": [
        "print(ss)"
      ],
      "metadata": {
        "colab": {
          "base_uri": "https://localhost:8080/"
        },
        "id": "q5-dI-upNoYm",
        "outputId": "91a1b582-9bb1-428a-d209-7971a5b2ab2a"
      },
      "execution_count": 15,
      "outputs": [
        {
          "output_type": "stream",
          "name": "stdout",
          "text": [
            "['ansin', ')']\n"
          ]
        }
      ]
    },
    {
      "cell_type": "markdown",
      "source": [
        "Collecting bag of words(Unique words or Vocabulary) "
      ],
      "metadata": {
        "id": "KVhOApMY59zB"
      }
    },
    {
      "cell_type": "code",
      "source": [
        "bog = {}\n",
        "for line in tokens['Bi-gram']:\n",
        "    for word in re.findall(r\"[\\w]+|[^\\s\\w]\", line): #separating punctuation as tokens\n",
        "        if word not in bog.keys():\n",
        "            bog[word] = 1\n",
        "        else:\n",
        "            bog[word] += 1"
      ],
      "metadata": {
        "id": "20qif0Xxgort"
      },
      "execution_count": 16,
      "outputs": []
    },
    {
      "cell_type": "code",
      "source": [
        "len(bog)"
      ],
      "metadata": {
        "colab": {
          "base_uri": "https://localhost:8080/"
        },
        "id": "PtOJxc0Cgywr",
        "outputId": "8c5be5cd-4ea7-48f1-8c43-da33477a7da3"
      },
      "execution_count": 17,
      "outputs": [
        {
          "output_type": "execute_result",
          "data": {
            "text/plain": [
              "11051"
            ]
          },
          "metadata": {},
          "execution_count": 17
        }
      ]
    },
    {
      "cell_type": "code",
      "source": [
        "prior=calculate_prior(tokens,Y='Mutations')\n",
        "print(prior)"
      ],
      "metadata": {
        "colab": {
          "base_uri": "https://localhost:8080/"
        },
        "id": "GcOlTe-HqbIX",
        "outputId": "79ffd90e-0ee2-4b73-acf4-6cc4a9124514"
      },
      "execution_count": 18,
      "outputs": [
        {
          "output_type": "stream",
          "name": "stdout",
          "text": [
            "['H', 'N', 'S', 'T', 'U']\n",
            "[0.0079, 0.85888, 0.09976, 0.00314, 0.03032]\n"
          ]
        }
      ]
    },
    {
      "cell_type": "markdown",
      "source": [
        "Collecting words in dictionaries which appeared in each class"
      ],
      "metadata": {
        "id": "9Ph0vJUT6Ohc"
      }
    },
    {
      "cell_type": "code",
      "source": [
        "#count which words appear in +ive tweet and -ive tweet\n",
        "import re\n",
        "for i in range(len(tokens['Bi-gram'])):\n",
        "  for word in re.findall(r\"[\\w]+|[^\\s\\w]\", tokens['Bi-gram'][i]):\n",
        "      if tokens['Mutations'][i] == 'H':\n",
        "          if word not in bow_H.keys():\n",
        "              bow_H[word] = 1\n",
        "              count_H += 1\n",
        "          else:\n",
        "              bow_H[word] += 1\n",
        "              count_H += 1\n",
        "      elif tokens['Mutations'][i] == 'U':\n",
        "          if word not in bow_U.keys():\n",
        "              bow_U[word] = 1\n",
        "              count_U += 1\n",
        "          else:\n",
        "              bow_U[word] += 1\n",
        "              count_U += 1\n",
        "      elif tokens['Mutations'][i] == 'S':\n",
        "          if word not in bow_S.keys():\n",
        "              bow_S[word] = 1\n",
        "              count_S += 1\n",
        "          else:\n",
        "              bow_S[word] += 1\n",
        "              count_S += 1    \n",
        "      elif tokens['Mutations'][i] == 'T':\n",
        "          if word not in bow_T.keys():\n",
        "              bow_T[word] = 1\n",
        "              count_T += 1\n",
        "          else:\n",
        "              bow_T[word] += 1\n",
        "              count_T += 1 \n",
        "      else:\n",
        "          if word not in bow_N.keys():\n",
        "              bow_N[word] = 1\n",
        "              count_N += 1\n",
        "          else:\n",
        "              bow_N[word] += 1\n",
        "              count_N += 1                                                                                      "
      ],
      "metadata": {
        "id": "g_adLCWBquF1"
      },
      "execution_count": 19,
      "outputs": []
    },
    {
      "cell_type": "code",
      "source": [
        "pd.set_option('display.max_rows', None)\n",
        "tokens['Bi-gram']\n",
        "df = tokens[tokens['Mutations']=='H']\n",
        "df"
      ],
      "metadata": {
        "id": "td1RLfeNabDq"
      },
      "execution_count": null,
      "outputs": []
    },
    {
      "cell_type": "markdown",
      "source": [
        "Sorting dictionaries by count"
      ],
      "metadata": {
        "id": "Y98vWEGo6WU7"
      }
    },
    {
      "cell_type": "code",
      "source": [
        "bow_N = {k: v for k, v in sorted(bow_N.items(), reverse = True, key=lambda item: item[1])}\n",
        "bow_U = {k: v for k, v in sorted(bow_U.items(), reverse = True, key=lambda item: item[1])}\n",
        "bow_S = {k: v for k, v in sorted(bow_S.items(), reverse = True, key=lambda item: item[1])}\n",
        "bow_T = {k: v for k, v in sorted(bow_T.items(), reverse = True, key=lambda item: item[1])}\n",
        "bow_H = {k: v for k, v in sorted(bow_H.items(), reverse = True, key=lambda item: item[1])}"
      ],
      "metadata": {
        "id": "eMio1J5lOelG"
      },
      "execution_count": 22,
      "outputs": []
    },
    {
      "cell_type": "code",
      "source": [
        "len(bow_T)"
      ],
      "metadata": {
        "colab": {
          "base_uri": "https://localhost:8080/"
        },
        "id": "QQPc5n2OKOOH",
        "outputId": "c570e635-f75f-4b55-81d3-44bcba26536c"
      },
      "execution_count": 23,
      "outputs": [
        {
          "output_type": "execute_result",
          "data": {
            "text/plain": [
              "103"
            ]
          },
          "metadata": {},
          "execution_count": 23
        }
      ]
    },
    {
      "cell_type": "code",
      "source": [
        "print(count_H)\n",
        "print(count_N)\n",
        "print(count_S)\n",
        "print(count_T)\n",
        "print(count_U)"
      ],
      "metadata": {
        "id": "NAyTeIcbPFiv",
        "colab": {
          "base_uri": "https://localhost:8080/"
        },
        "outputId": "9c41ef75-d9ce-4a79-cd78-3b960d68d8b7"
      },
      "execution_count": 24,
      "outputs": [
        {
          "output_type": "stream",
          "name": "stdout",
          "text": [
            "2000\n",
            "164347\n",
            "10569\n",
            "318\n",
            "3043\n"
          ]
        }
      ]
    },
    {
      "cell_type": "markdown",
      "source": [
        "Calculating likelihood probabilities of each word and taking product with prior probabilities\n",
        "\n",
        "\n"
      ],
      "metadata": {
        "id": "zt0D8Tdg6bfO"
      }
    },
    {
      "cell_type": "code",
      "source": [
        "import math\n",
        "import numpy as np\n",
        "from math import log\n",
        "vocab_size=len(bog)\n",
        "train_predictions = []\n",
        "classes=5\n",
        "y_pred=[]\n",
        "for sentence in tokens['Bi-gram']:\n",
        "    prob_H = 0\n",
        "    prob_N = 0\n",
        "    prob_T = 0\n",
        "    prob_S = 0\n",
        "    prob_U = 0\n",
        "    for word in re.findall(r\"[\\w]+|[^\\s\\w]\", sentence):\n",
        "        try:\n",
        "            prob_H += log((bow_H[word]+1)/(count_H+vocab_size))\n",
        "        except:\n",
        "            prob_H += log((0+1)/(count_H+vocab_size))\n",
        "        try:\n",
        "            prob_N += log((bow_N[word]+1)/(count_N+vocab_size))\n",
        "        except:\n",
        "            prob_N += log((0+1)/(count_N+vocab_size))\n",
        "        try:\n",
        "            prob_S += log((bow_S[word]+1)/(count_S+vocab_size))\n",
        "        except:\n",
        "            prob_S += log((0+1)/(count_S+vocab_size))    \n",
        "        try:\n",
        "            prob_T += log((bow_T[word]+1)/(count_T+vocab_size))\n",
        "        except:\n",
        "            prob_T += log((0+1)/(count_T+vocab_size))                        \n",
        "        try:\n",
        "            prob_U += log((bow_U[word]+1)/(count_U+vocab_size))\n",
        "        except:\n",
        "            prob_U += log((0+1)/(count_U+vocab_size)) \n",
        "    prob_dic={\n",
        "        0:prob_H,\n",
        "        1:prob_N,\n",
        "        2:prob_S,\n",
        "        3:prob_T,\n",
        "        4:prob_U\n",
        "    }\n",
        "    \n",
        "    post_prob=[1]*classes\n",
        "    for x in range(len(prior)):\n",
        "      post_prob[x]=prior[x]*prob_dic[x]\n",
        "      \n",
        "    y_pred.append(np.argmax(post_prob))  "
      ],
      "metadata": {
        "id": "7NnH7ivZIojL"
      },
      "execution_count": 25,
      "outputs": []
    },
    {
      "cell_type": "code",
      "source": [
        "import sys\n",
        "np.set_printoptions(threshold=sys.maxsize)\n",
        "#y_pred\n",
        "post_prob\n",
        "\n",
        "#np.argmax(lis)\n",
        "#bow_T"
      ],
      "metadata": {
        "colab": {
          "base_uri": "https://localhost:8080/"
        },
        "id": "ZJnhxM0hHBfR",
        "outputId": "222fb0e5-e0cb-4812-8bb0-246f5706174c"
      },
      "execution_count": 26,
      "outputs": [
        {
          "output_type": "execute_result",
          "data": {
            "text/plain": [
              "[-0.11931443054953748,\n",
              " -12.273741995521846,\n",
              " -1.3334886946020867,\n",
              " -0.043197954462670475,\n",
              " -0.4188315077980591]"
            ]
          },
          "metadata": {},
          "execution_count": 26
        }
      ]
    },
    {
      "cell_type": "markdown",
      "source": [
        "Performing label encoding by mapping each class with integer"
      ],
      "metadata": {
        "id": "vNwYEwUl60Iw"
      }
    },
    {
      "cell_type": "code",
      "source": [
        "labels=tokens['Mutations']"
      ],
      "metadata": {
        "id": "1HsRJpC9jN02"
      },
      "execution_count": 27,
      "outputs": []
    },
    {
      "cell_type": "code",
      "source": [
        "labels=labels.str.replace(\"H\",\"0\")\n",
        "labels=labels.str.replace(\"N\",\"1\")\n",
        "labels=labels.str.replace(\"S\",\"2\")\n",
        "labels=labels.str.replace(\"T\",\"3\")\n",
        "labels=labels.str.replace(\"U\",\"4\")\n",
        "y_labels=[]\n",
        "for x in labels:\n",
        "  y_labels.append(int(x))\n",
        "#y_labels"
      ],
      "metadata": {
        "id": "8tQLp_8ndyEa"
      },
      "execution_count": 28,
      "outputs": []
    },
    {
      "cell_type": "code",
      "source": [
        "y_pred=np.array(y_pred)\n",
        "from sklearn.metrics import confusion_matrix, f1_score,accuracy_score\n",
        "print(confusion_matrix(y_labels, y_pred))\n",
        "print(accuracy_score(y_labels, y_pred))"
      ],
      "metadata": {
        "colab": {
          "base_uri": "https://localhost:8080/"
        },
        "id": "_LSCuSkVvW65",
        "outputId": "e85b7676-f65a-43f4-9081-bebe45ff1c1c"
      },
      "execution_count": 29,
      "outputs": [
        {
          "output_type": "stream",
          "name": "stdout",
          "text": [
            "[[    0     0     0   395     0]\n",
            " [   98     0     0 42846     0]\n",
            " [    0     0     0  4988     0]\n",
            " [    0     0     0   157     0]\n",
            " [    0     0     0  1516     0]]\n",
            "0.00314\n"
          ]
        }
      ]
    },
    {
      "cell_type": "markdown",
      "source": [
        "#Naive-Bayes 2nd Approach\n",
        "\n",
        "---Tested it on small dataset(50k training instances) due to time constraint and acquired 45% accuracy\n",
        "\n",
        "\n",
        "---suji04[Source code] https://github.com/Suji04/ML_from_Scratch\n",
        "\n",
        "\n"
      ],
      "metadata": {
        "id": "dS3jkI37GV0W"
      }
    },
    {
      "cell_type": "code",
      "source": [
        "#Calculate prior prob of each class \n",
        "def calculate_prior(df, Y):\n",
        "    classes = sorted(list(df[Y].unique()))\n",
        "    #print(classes)\n",
        "    prior = []\n",
        "    for i in classes:\n",
        "        prior.append(len(df[df[Y]==i])/len(df))\n",
        "    return prior\n",
        "\n"
      ],
      "metadata": {
        "id": "YnfwdDOsLLKH"
      },
      "execution_count": null,
      "outputs": []
    },
    {
      "cell_type": "code",
      "source": [
        "#To verify that the sum of all the prior class probabilities is equal to 1\n",
        "res=calculate_prior(data,Y='mutation')\n",
        "sum=0\n",
        "for x in res:\n",
        "  sum+=x\n",
        "print(sum)"
      ],
      "metadata": {
        "colab": {
          "base_uri": "https://localhost:8080/"
        },
        "id": "9Fdau1tILeCU",
        "outputId": "4eaadaf5-732b-4885-8782-6a02ce45c643"
      },
      "execution_count": null,
      "outputs": [
        {
          "output_type": "stream",
          "name": "stdout",
          "text": [
            "1.0\n"
          ]
        }
      ]
    },
    {
      "cell_type": "code",
      "source": [
        "\n",
        "def calculate_likelihood_categorical(df, feat_name, feat_val, Y, label):\n",
        "    feat = list(df.columns)\n",
        "    df = df[df[Y]==label]\n",
        "    #print(df)\n",
        "    p_x_given_y = len(df[df[feat_name]==feat_val]) / len(df)\n",
        "    #print(p_x_given_y)\n",
        "    return p_x_given_y\n"
      ],
      "metadata": {
        "id": "P8du-tYyezqY"
      },
      "execution_count": null,
      "outputs": []
    },
    {
      "cell_type": "code",
      "source": [
        "\n",
        "def naive_bayes_categorical(df, X, Y):\n",
        "    # get feature names\n",
        "    features = list(df.columns)[:-1]\n",
        "    #print(features)\n",
        "    # calculate prior\n",
        "    prior = calculate_prior(df, Y)\n",
        "\n",
        "    Y_pred = []\n",
        "    # loop over every data sample\n",
        "    for x in X:\n",
        "        labels = sorted(list(df[Y].unique()))\n",
        "        \n",
        "        likelihood = [1]*len(labels)\n",
        "        \n",
        "        for j in range(len(labels)):\n",
        "            for i in range(len(features)):\n",
        "\n",
        "                likelihood[j] *= calculate_likelihood_categorical(df, features[i], x[i], Y, labels[j])\n",
        "                \n",
        "        # calculate posterior probability\n",
        "        post_prob = [1]*len(labels)\n",
        "        for j in range(len(labels)):\n",
        "            post_prob[j] = likelihood[j] * prior[j]\n",
        "            \n",
        "        Y_pred.append(np.argmax(post_prob))\n",
        "        #print(Y_pred)\n",
        "\n",
        "    return np.array(Y_pred) "
      ],
      "metadata": {
        "id": "8j4sGKFwMcdK"
      },
      "execution_count": null,
      "outputs": []
    },
    {
      "cell_type": "code",
      "source": [
        "from sklearn.model_selection import train_test_split\n",
        "tokens=tokens.iloc[:500000]\n",
        "train, test = train_test_split(tokens, test_size=.3, random_state=41)\n",
        "Y_train=train.iloc[:,:-1].values\n",
        "X_test = test.iloc[:,:-1].values\n",
        "Y_test = test.iloc[:,-1].values\n",
        "print(len(train))\n",
        "print(len(Y_train))\n",
        "#print(type(train))\n",
        "print(len(X_test))\n",
        "print(len(Y_test))"
      ],
      "metadata": {
        "colab": {
          "base_uri": "https://localhost:8080/"
        },
        "id": "5L4z68Mge_TL",
        "outputId": "25e0218a-2868-4faa-a03f-bd87c27fc7ab"
      },
      "execution_count": null,
      "outputs": [
        {
          "output_type": "stream",
          "name": "stdout",
          "text": [
            "350000\n",
            "350000\n",
            "150000\n",
            "150000\n"
          ]
        }
      ]
    },
    {
      "cell_type": "code",
      "source": [
        "#Calling the Naive-Bayes\n",
        "#This step with 50k total instances takes almost 6min \n",
        "import numpy as np\n",
        "Y_pred = naive_bayes_categorical(train, X=X_test, Y=\"Mutations\")"
      ],
      "metadata": {
        "id": "tdE3fa_8e_go"
      },
      "execution_count": null,
      "outputs": []
    },
    {
      "cell_type": "code",
      "source": [
        "from sklearn.preprocessing import LabelEncoder\n",
        "le = LabelEncoder()\n",
        "Y_test = le.fit_transform(Y_test)"
      ],
      "metadata": {
        "id": "3-CeeRIEthtP"
      },
      "execution_count": null,
      "outputs": []
    },
    {
      "cell_type": "code",
      "source": [
        "from sklearn.metrics import confusion_matrix, f1_score,accuracy_score\n",
        "import sys\n",
        "np.set_printoptions(threshold=sys.maxsize)\n",
        "#print(Y_pred)\n",
        "#print(Y_test)\n"
      ],
      "metadata": {
        "id": "p05BzVlD_W-z"
      },
      "execution_count": null,
      "outputs": []
    },
    {
      "cell_type": "code",
      "source": [
        "print(confusion_matrix(Y_test, Y_pred))\n",
        "print(accuracy_score(Y_test, Y_pred))"
      ],
      "metadata": {
        "colab": {
          "base_uri": "https://localhost:8080/"
        },
        "id": "jHFN7B3Yu1UM",
        "outputId": "5969ace0-5f02-4be9-d33f-7a65b858790d"
      },
      "execution_count": null,
      "outputs": [
        {
          "output_type": "stream",
          "name": "stdout",
          "text": [
            "[[ 129    0    0    0    0]\n",
            " [7101 5709   29    6   17]\n",
            " [ 787   18  680    0   12]\n",
            " [  14    9    0   15    0]\n",
            " [ 179   33   31    0  231]]\n",
            "0.45093333333333335\n"
          ]
        }
      ]
    },
    {
      "cell_type": "code",
      "source": [],
      "metadata": {
        "id": "rjGNFRj2e-gY"
      },
      "execution_count": null,
      "outputs": []
    },
    {
      "cell_type": "code",
      "source": [],
      "metadata": {
        "id": "oYKkYOVEqKTW"
      },
      "execution_count": null,
      "outputs": []
    }
  ]
}